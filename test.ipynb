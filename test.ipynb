{
 "cells": [
  {
   "attachments": {},
   "cell_type": "markdown",
   "metadata": {},
   "source": [
    "# 测试\n",
    "\n",
    "经过 README.md 测试后发现目录可以在 GitHub 页面正常跳转\n",
    "\n",
    "那么在 `ipynb` 文件的目录是否能够正常跳转呢？\n",
    "\n",
    "本次实验使用 README.md 的两个可以实现跳转的链接来进行实验"
   ]
  },
  {
   "attachments": {},
   "cell_type": "markdown",
   "metadata": {},
   "source": [
    "[测试# 不带空格目录跳转](#跳转锚点-不加空格版) "
   ]
  },
  {
   "attachments": {},
   "cell_type": "markdown",
   "metadata": {},
   "source": [
    "[测试# 有空格目录跳转](#跳转锚点-有空格版) "
   ]
  },
  {
   "attachments": {},
   "cell_type": "markdown",
   "metadata": {},
   "source": [
    "首先增加填充内容以保证试验有充足空间可以完全跳转\n",
    "\n",
    "填充文字\n",
    "\n",
    "填充文字\n",
    "\n",
    "填充文字\n",
    "\n",
    "填充文字\n",
    "\n",
    "填充文字\n",
    "\n",
    "填充文字\n",
    "\n",
    "填充文字\n",
    "\n",
    "填充文字\n",
    "\n",
    "填充文字\n",
    "\n",
    "填充文字\n",
    "\n",
    "以下是为了在基于 GitHub 的页面进行测试的内容"
   ]
  },
  {
   "attachments": {},
   "cell_type": "markdown",
   "metadata": {},
   "source": [
    "### 跳转锚点-不加空格版\n",
    "\n",
    ">锚点内容：\n",
    ">\n",
    ">### 跳转锚点-不加空格版\n",
    "\n",
    "\n",
    "\n",
    "填充文字\n",
    "\n",
    "填充文字\n",
    "\n",
    "填充文字\n",
    "\n",
    "填充文字\n",
    "\n",
    "填充文字\n",
    "\n",
    "填充文字\n",
    "\n",
    "填充文字\n",
    "\n",
    "填充文字\n",
    "\n",
    "填充文字\n",
    "\n",
    "填充文字\n",
    "\n"
   ]
  },
  {
   "attachments": {},
   "cell_type": "markdown",
   "metadata": {},
   "source": [
    "### 跳转锚点 有空格版\n",
    "\n",
    "> 锚点内容：\n",
    ">\n",
    "> ### 跳转锚点 有空格版\n",
    "\n",
    "\n",
    "\n",
    "\n",
    "\n",
    "填充文字\n",
    "\n",
    "填充文字\n",
    "\n",
    "填充文字\n",
    "\n",
    "填充文字\n",
    "\n",
    "填充文字\n",
    "\n",
    "填充文字\n",
    "\n",
    "填充文字\n",
    "\n",
    "填充文字\n",
    "\n",
    "填充文字\n",
    "\n",
    "填充文字"
   ]
  }
 ],
 "metadata": {
  "language_info": {
   "name": "python"
  },
  "orig_nbformat": 4
 },
 "nbformat": 4,
 "nbformat_minor": 2
}
